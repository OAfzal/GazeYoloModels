{
 "cells": [
  {
   "cell_type": "code",
   "execution_count": 6,
   "metadata": {},
   "outputs": [],
   "source": [
    "import cv2\n",
    "import glob\n",
    "import xml.etree.ElementTree as ET\n",
    "from tqdm import tqdm\n",
    "import os\n",
    "from PIL import Image\n",
    "import shutil"
   ]
  },
  {
   "cell_type": "code",
   "execution_count": 9,
   "metadata": {},
   "outputs": [],
   "source": [
    "def convert(img_size, box):\n",
    "    # Width Scale Factor\n",
    "    dh, dw = 1./img_size[0], 1./img_size[1]\n",
    "\n",
    "    # Converting to the Middle\n",
    "    x = (box[0] + box[1])/2.0\n",
    "    y = (box[2] + box[3])/2.0\n",
    "\n",
    "    # Calculating Width and Height\n",
    "    w = box[2] - box[0]\n",
    "    h = box[3] - box[1]\n",
    "\n",
    "    x, w = x*dw, w*dw\n",
    "    y, h = y*dh, h*dh\n",
    "\n",
    "    return [x,y,w,h]\n",
    "\n",
    "def to_png(img_path):\n",
    "\n",
    "    im = Image.open(img_path)\n",
    "    os.remove(img_path)\n",
    "    im.save(img_path.replace(\".jpg\",\".png\"))\n",
    "\n",
    "def read_region(xml_path):\n",
    "    reg = []\n",
    "    tree = ET.parse(xml_path)\n",
    "    for obj in tree.findall(\"object\"):\n",
    "            name = obj.find(\"name\").text\n",
    "            bndbox = obj.find(\"bndbox\")\n",
    "            box = [\n",
    "                int(bndbox.find(\"xmin\").text),\n",
    "                int(bndbox.find(\"ymin\").text),\n",
    "                int(bndbox.find(\"xmax\").text),\n",
    "                int(bndbox.find(\"ymax\").text),\n",
    "            ]\n",
    "            reg.append((name,box))\n",
    "    return reg\n",
    "\n",
    "\n",
    "def voc_to_yolo(xml_path, classes):\n",
    "    voc_regions = read_region(xml_path)\n",
    "\n",
    "    yolo_regions = []\n",
    "\n",
    "    img_path = xml_path.replace(\"labels\",\"images\").replace(\"xml\",\"png\")\n",
    "    img = cv2.imread(img_path)\n",
    "    img_shape = img.shape\n",
    "\n",
    "    for lbl, xyxy in voc_regions:\n",
    "        xywh = convert(img_shape, xyxy)\n",
    "        xywh = list(map(str, xywh))\n",
    "\n",
    "        row = f\"{classes.index(lbl)} {' '.join(xywh)}\"\n",
    "        yolo_regions.append(row)\n",
    "\n",
    "    with open(xml_path.replace(\".xml\",\".txt\"), \"w\") as f:\n",
    "        f.write('\\n'.join(yolo_regions))\n",
    "    \n"
   ]
  },
  {
   "cell_type": "code",
   "execution_count": 12,
   "metadata": {},
   "outputs": [],
   "source": [
    "classes = ['Keratin_Pearl']\n",
    "\n",
    "with open(\"../data/classes.names\", \"w\") as f:\n",
    "    f.write(\"\\n\".join(classes))"
   ]
  },
  {
   "cell_type": "code",
   "execution_count": 13,
   "metadata": {},
   "outputs": [
    {
     "name": "stderr",
     "output_type": "stream",
     "text": [
      "100%|██████████| 72/72 [01:03<00:00,  1.14it/s]\n"
     ]
    }
   ],
   "source": [
    "train_images = glob.glob(\"../data/Gaze_Data/images/train/*.png\", recursive=True)\n",
    "train_images = ['/'.join(os.path.realpath(i).split(\"/\")[-5:]) for i in train_images]\n",
    "\n",
    "test_images = glob.glob(\"../data/Gaze_Data/images/test/*.png\", recursive=True)\n",
    "test_images = ['/'.join(os.path.realpath(i).split(\"/\")[-5:]) for i in test_images]\n",
    "\n",
    "with open(\"../data/Gaze_Data/train.txt\", \"w\") as f:\n",
    "    f.write(\"\\n\".join(train_images))\n",
    "\n",
    "with open(\"../data/Gaze_Data/val.txt\", \"w\") as f:\n",
    "    f.write(\"\\n\".join(test_images))\n",
    "\n",
    "xml_files = glob.glob(\"../data/Gaze_Data/**/*.xml\", recursive=True)\n",
    "\n",
    "for xml_f in tqdm(xml_files):\n",
    "    voc_to_yolo(xml_f, classes)"
   ]
  },
  {
   "cell_type": "code",
   "execution_count": 14,
   "metadata": {},
   "outputs": [
    {
     "name": "stderr",
     "output_type": "stream",
     "text": [
      "100%|██████████| 74/74 [00:47<00:00,  1.56it/s]\n"
     ]
    }
   ],
   "source": [
    "train_images = glob.glob(\"../data/Hand_Data/images/train/*.png\", recursive=True)\n",
    "train_images = ['/'.join(os.path.realpath(i).split(\"/\")[-5:]) for i in train_images]\n",
    "\n",
    "test_images = glob.glob(\"../data/Hand_Data/images/test/*.png\", recursive=True)\n",
    "test_images = ['/'.join(os.path.realpath(i).split(\"/\")[-5:]) for i in test_images]\n",
    "\n",
    "with open(\"../data/Hand_Data/train.txt\", \"w\") as f:\n",
    "    f.write(\"\\n\".join(train_images))\n",
    "\n",
    "with open(\"../data/Hand_Data/val.txt\", \"w\") as f:\n",
    "    f.write(\"\\n\".join(test_images))\n",
    "\n",
    "xml_files = glob.glob(\"../data/Hand_Data/**/*.xml\", recursive=True)\n",
    "\n",
    "for xml_f in tqdm(xml_files):\n",
    "    voc_to_yolo(xml_f, classes)"
   ]
  }
 ],
 "metadata": {
  "interpreter": {
   "hash": "b4e1d8ba99ed2925892a3a043ad2beec116da5e017754a987d5e8e2acaec5fea"
  },
  "kernelspec": {
   "display_name": "Python 3.9.7 64-bit ('gaze': conda)",
   "language": "python",
   "name": "python3"
  },
  "language_info": {
   "codemirror_mode": {
    "name": "ipython",
    "version": 3
   },
   "file_extension": ".py",
   "mimetype": "text/x-python",
   "name": "python",
   "nbconvert_exporter": "python",
   "pygments_lexer": "ipython3",
   "version": "3.9.7"
  },
  "orig_nbformat": 4
 },
 "nbformat": 4,
 "nbformat_minor": 2
}